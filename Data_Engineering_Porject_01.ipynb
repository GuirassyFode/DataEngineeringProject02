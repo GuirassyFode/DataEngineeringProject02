{
 "cells": [
  {
   "cell_type": "markdown",
   "id": "d1f48682",
   "metadata": {},
   "source": [
    "## Data_Engineering_Porject_01"
   ]
  },
  {
   "cell_type": "markdown",
   "id": "f3475d8d",
   "metadata": {},
   "source": [
    "# Creat table in PosgreSQL using Python "
   ]
  },
  {
   "cell_type": "markdown",
   "id": "dc6fc061",
   "metadata": {},
   "source": [
    "## Import the PostgreSLQ Python plugin\n",
    "\n"
   ]
  },
  {
   "cell_type": "code",
   "execution_count": 124,
   "id": "6fc188df",
   "metadata": {},
   "outputs": [
    {
     "name": "stdout",
     "output_type": "stream",
     "text": [
      "Requirement already satisfied: psycopg2 in c:\\users\\admin\\anaconda3\\lib\\site-packages (2.9.3)\n",
      "Requirement already satisfied: psycopg2-binary in c:\\users\\admin\\anaconda3\\lib\\site-packages (2.9.3)\n"
     ]
    }
   ],
   "source": [
    "!pip install psycopg2\n",
    "\n",
    "!pip install psycopg2-binary"
   ]
  },
  {
   "cell_type": "markdown",
   "id": "0af309ee",
   "metadata": {},
   "source": [
    "# Import the library"
   ]
  },
  {
   "cell_type": "code",
   "execution_count": 125,
   "id": "aa0b202a",
   "metadata": {},
   "outputs": [],
   "source": [
    "import psycopg2"
   ]
  },
  {
   "cell_type": "markdown",
   "id": "e3075703",
   "metadata": {},
   "source": [
    "## Create connexion to the database "
   ]
  },
  {
   "cell_type": "code",
   "execution_count": 126,
   "id": "af9cb71f",
   "metadata": {},
   "outputs": [],
   "source": [
    "try:\n",
    "    conn = psycopg2.connect(host=\"localhost\",database=\"postgres\", user=\"postgres\", password=\"admin\")\n",
    "except pyscopg2.Error as e:\n",
    "    print('Error: Could not make connection to the Postgres database')\n",
    "    print(e)"
   ]
  },
  {
   "cell_type": "markdown",
   "id": "e0672f0c",
   "metadata": {},
   "source": [
    "# Use the connexion to get a cursor that can be used to execute quieries"
   ]
  },
  {
   "cell_type": "code",
   "execution_count": 127,
   "id": "07538787",
   "metadata": {},
   "outputs": [],
   "source": [
    "try:\n",
    "    cur = conn.cursor()\n",
    "except psycopg2.Error as e:\n",
    "    print(\"Error could not get the Database\")\n",
    "    print(e)"
   ]
  },
  {
   "cell_type": "markdown",
   "id": "1f3bb276",
   "metadata": {},
   "source": [
    "# Set automatic commit to be true"
   ]
  },
  {
   "cell_type": "code",
   "execution_count": 128,
   "id": "350ea6d2",
   "metadata": {},
   "outputs": [],
   "source": [
    "conn.set_session(autocommit=True)"
   ]
  },
  {
   "cell_type": "markdown",
   "id": "dc0c4519",
   "metadata": {},
   "source": [
    "# Create a Databse into postgreSQL to do the work in "
   ]
  },
  {
   "cell_type": "code",
   "execution_count": 129,
   "id": "3c6d9a58",
   "metadata": {},
   "outputs": [
    {
     "name": "stdout",
     "output_type": "stream",
     "text": [
      "Error could not create the Database\n",
      "database \"mydataengineeringdb\" already exists\n",
      "\n"
     ]
    }
   ],
   "source": [
    "try:\n",
    "    cur.execute(\"CREATE DATABASE mydataengineeringdb\")\n",
    "except psycopg2.Error as e:\n",
    "    print(\"Error could not create the Database\")\n",
    "    print(e)"
   ]
  },
  {
   "cell_type": "markdown",
   "id": "3be199fc",
   "metadata": {},
   "source": [
    "# Check you database postgreSQL CLI '\\l'"
   ]
  },
  {
   "cell_type": "markdown",
   "id": "0316a3f3",
   "metadata": {},
   "source": [
    "# Close my first connexion and connect to my new db"
   ]
  },
  {
   "cell_type": "code",
   "execution_count": 141,
   "id": "2294663d",
   "metadata": {},
   "outputs": [],
   "source": [
    "#close connexion\n",
    "try:\n",
    "    conn.close()\n",
    "except psycopg2.Error as e:\n",
    "    print(\"Error could close the Database\")\n",
    "    print(e)\n",
    "\n",
    "\n",
    "    # connect to my new db    \n",
    "try:\n",
    "    conn = psycopg2.connect(host=\"localhost\",database=\"mydataengineeringdb\", user=\"postgres\", password=\"admin\")\n",
    "except pyscopg2.Error as e:\n",
    "    print('Error: Could not make connection to the Postgres database')\n",
    "    print(e)\n",
    "    \n",
    "#activate de cursor    \n",
    "try:\n",
    "    cur = conn.cursor()\n",
    "except psycopg2.Error as e:\n",
    "    print(\"Error could not get the Database\")\n",
    "    print(e)\n",
    "    \n",
    "#Set automatic commit to be true\n",
    "conn.set_session(autocommit=True)\n"
   ]
  },
  {
   "cell_type": "code",
   "execution_count": 142,
   "id": "f9803940",
   "metadata": {},
   "outputs": [],
   "source": [
    "#Create Table for employee table which includes below column"
   ]
  },
  {
   "cell_type": "code",
   "execution_count": 143,
   "id": "eb935be2",
   "metadata": {},
   "outputs": [],
   "source": [
    "try:\n",
    "    cur.execute(\"CREATE TABLE IF NOT EXISTS departments (department_id int, department_name varchar);\")\n",
    "except psycopg2.Error as e:\n",
    "    print(\"Error could not create the table\")\n",
    "    print(e) \n",
    "\n",
    "\n",
    "try:\n",
    "    cur.execute(\"CREATE TABLE IF NOT EXISTS locations (location_id int, location_name varchar);\")\n",
    "except psycopg2.Error as e:\n",
    "    print(\"Error could not create the table\")\n",
    "    print(e)  \n",
    "    \n",
    "try:\n",
    "    cur.execute(\"CREATE TABLE IF NOT EXISTS employees (employee_id int, employee_fname varchar,employee_lname varchar,  department_id int, location_id int);\")\n",
    "except psycopg2.Error as e:\n",
    "    print(\"Error could not create the table\")\n",
    "    print(e)"
   ]
  },
  {
   "cell_type": "code",
   "execution_count": 144,
   "id": "a2c4c83b",
   "metadata": {},
   "outputs": [],
   "source": [
    "try:\n",
    "    cur.execute(\"INSERT INTO  departments (department_id , department_name  )\\\n",
    "    VALUES(%s,%s)\",\\\n",
    "               (1,\"IT\"))\n",
    "except psycopg2.Error as e:\n",
    "    print(\"Error could not create the table\")\n",
    "    print(e)\n",
    "    \n",
    "try:\n",
    "    cur.execute(\"INSERT INTO   departments (department_id , department_name )\\\n",
    "    VALUES(%s,%s)\",\\\n",
    "               (2,\"Finance\"))\n",
    "except psycopg2.Error as e:\n",
    "    print(\"Error could not create the table\")\n",
    "    print(e)\n",
    "\n",
    "try:\n",
    "    cur.execute(\"INSERT INTO   departments (department_id , department_name  )\\\n",
    "    VALUES(%s,%s)\",\\\n",
    "               (3,\"HR\"))\n",
    "except psycopg2.Error as e:\n",
    "    print(\"Error could not create the table\")\n",
    "    print(e)\n",
    "    \n"
   ]
  },
  {
   "cell_type": "code",
   "execution_count": 145,
   "id": "9266262f",
   "metadata": {},
   "outputs": [],
   "source": [
    "try:\n",
    "    cur.execute(\"INSERT INTO  locations (location_id , location_name)\\\n",
    "    VALUES(%s,%s)\",\\\n",
    "               (1,\"swaziland\"))\n",
    "except psycopg2.Error as e:\n",
    "    print(\"Error could not create the table\")\n",
    "    print(e)\n",
    "\n",
    "try:\n",
    "    cur.execute(\"INSERT INTO  locations (location_id, location_name)\\\n",
    "    VALUES(%s,%s)\",\\\n",
    "               (2,\"US\"))\n",
    "except psycopg2.Error as e:\n",
    "    print(\"Error could not create the table\")\n",
    "    print(e)\n",
    "try:\n",
    "    cur.execute(\"INSERT INTO  locations (location_id , location_name  )\\\n",
    "    VALUES(%s,%s)\",\\\n",
    "               (3,\"Brezil\"))\n",
    "except psycopg2.Error as e:\n",
    "    print(\"Error could not create the table\")\n",
    "    print(e)\n",
    "\n",
    "try:\n",
    "    cur.execute(\"INSERT INTO  locations (location_id , location_name  )\\\n",
    "    VALUES(%s,%s)\",\\\n",
    "               (4,\"Moroco\"))\n",
    "except psycopg2.Error as e:\n",
    "    print(\"Error could not create the table\")\n",
    "    print(e)"
   ]
  },
  {
   "cell_type": "code",
   "execution_count": 147,
   "id": "e2e29a15",
   "metadata": {},
   "outputs": [],
   "source": [
    "try:\n",
    "    cur.execute(\"INSERT INTO  employees (employee_id, employee_fname, employee_lname, department_id , location_id)\\\n",
    "    VALUES(%s,%s,%s,%s,%s)\",\\\n",
    "               (1,\"Thomas\",\"Diene\",3,3))\n",
    "except psycopg2.Error as e:\n",
    "    print(\"Error could not create the table\")\n",
    "    print(e)\n",
    "\n",
    "    \n",
    "try:\n",
    "    cur.execute(\"INSERT INTO  employees (employee_id, employee_fname, employee_lname, department_id , location_id)\\\n",
    "    VALUES(%s,%s,%s,%s,%s)\",\\\n",
    "               (2,\"Reggie\",\"Reed\",1,2))\n",
    "except psycopg2.Error as e:\n",
    "    print(\"Error could not create the table\")\n",
    "    print(e)\n",
    "\n",
    "\n",
    "try:\n",
    "    cur.execute(\"INSERT INTO  employees (employee_id, employee_fname, employee_lname, department_id , location_id)\\\n",
    "    VALUES(%s,%s,%s,%s,%s)\",\\\n",
    "               (3,\"Patrick\",\"Horrigan\",1,2))\n",
    "except psycopg2.Error as e:\n",
    "    print(\"Error could not create the table\")\n",
    "    print(e)\n",
    "    \n",
    "try:\n",
    "    cur.execute(\"INSERT INTO  employees (employee_id, employee_fname, employee_lname, department_id , location_id)\\\n",
    "    VALUES(%s,%s,%s,%s,%s)\",\\\n",
    "               (4,\"Jenna\",\"Biden\",2,1))\n",
    "except psycopg2.Error as e:\n",
    "    print(\"Error could not create the table\")\n",
    "    print(e)\n",
    "\n",
    "    \n",
    "try:\n",
    "    cur.execute(\"INSERT INTO  employees (employee_id, employee_fname, employee_lname, department_id , location_id)\\\n",
    "    VALUES(%s,%s,%s,%s,%s)\",\\\n",
    "               (5,\"Micheal\",\"Barack\",2,2))\n",
    "except psycopg2.Error as e:\n",
    "    print(\"Error could not create the table\")\n",
    "    print(e)"
   ]
  },
  {
   "cell_type": "code",
   "execution_count": null,
   "id": "95cd07f2",
   "metadata": {},
   "outputs": [],
   "source": [
    "\n",
    "\n",
    "\n"
   ]
  },
  {
   "cell_type": "code",
   "execution_count": null,
   "id": "4cf2806d",
   "metadata": {},
   "outputs": [],
   "source": []
  }
 ],
 "metadata": {
  "kernelspec": {
   "display_name": "Python 3 (ipykernel)",
   "language": "python",
   "name": "python3"
  },
  "language_info": {
   "codemirror_mode": {
    "name": "ipython",
    "version": 3
   },
   "file_extension": ".py",
   "mimetype": "text/x-python",
   "name": "python",
   "nbconvert_exporter": "python",
   "pygments_lexer": "ipython3",
   "version": "3.9.12"
  }
 },
 "nbformat": 4,
 "nbformat_minor": 5
}
