{
 "cells": [
  {
   "cell_type": "markdown",
   "id": "bb23c26e",
   "metadata": {},
   "source": [
    "## Data_Engineering_Porject_01"
   ]
  },
  {
   "cell_type": "markdown",
   "id": "68d1f476",
   "metadata": {},
   "source": [
    "# Creat table in PosgreSQL using Python "
   ]
  },
  {
   "cell_type": "markdown",
   "id": "7da6a3ac",
   "metadata": {},
   "source": [
    "## Import the PostgreSLQ Python plugin\n",
    "\n"
   ]
  },
  {
   "cell_type": "code",
   "execution_count": 1,
   "id": "e0b5716c",
   "metadata": {},
   "outputs": [
    {
     "name": "stdout",
     "output_type": "stream",
     "text": [
      "Requirement already satisfied: psycopg2 in c:\\users\\admin\\anaconda3\\lib\\site-packages (2.9.3)\n",
      "Collecting psycopg2-binary\n",
      "  Using cached psycopg2_binary-2.9.3-cp39-cp39-win_amd64.whl (1.2 MB)\n",
      "Installing collected packages: psycopg2-binary\n",
      "Successfully installed psycopg2-binary-2.9.3\n"
     ]
    }
   ],
   "source": [
    "!pip install psycopg2\n",
    "\n",
    "!pip install psycopg2-binary"
   ]
  },
  {
   "cell_type": "markdown",
   "id": "f19d2a47",
   "metadata": {},
   "source": [
    "# Import the library"
   ]
  },
  {
   "cell_type": "code",
   "execution_count": 4,
   "id": "5174f27a",
   "metadata": {},
   "outputs": [],
   "source": [
    "import psycopg2"
   ]
  },
  {
   "cell_type": "markdown",
   "id": "b9b745c8",
   "metadata": {},
   "source": [
    "## Create connexion to the database "
   ]
  },
  {
   "cell_type": "code",
   "execution_count": 13,
   "id": "d2cae1e9",
   "metadata": {},
   "outputs": [],
   "source": [
    "try:\n",
    "    conn = psycopg2.connect(host=\"localhost\",database=\"postgres\", user=\"postgres\", password=\"admin\")\n",
    "except pyscopg2.Error as e:\n",
    "    print('Error: Could not make connection to the Postgres database')\n",
    "    print(e)"
   ]
  },
  {
   "cell_type": "markdown",
   "id": "7995c173",
   "metadata": {},
   "source": [
    "# Use the connexion to get a cursor that can be used to execute quieries"
   ]
  },
  {
   "cell_type": "code",
   "execution_count": 14,
   "id": "7b5b6434",
   "metadata": {},
   "outputs": [],
   "source": [
    "try:\n",
    "    cur = conn.cursor()\n",
    "except psycopg2.Error as e:\n",
    "    print(\"Error could not get the Database\")\n",
    "    print(e)"
   ]
  },
  {
   "cell_type": "markdown",
   "id": "59b54d7c",
   "metadata": {},
   "source": [
    "# Set automatic commit to be true"
   ]
  },
  {
   "cell_type": "code",
   "execution_count": 16,
   "id": "cafed4f1",
   "metadata": {},
   "outputs": [],
   "source": [
    "conn.set_session(autocommit=True)"
   ]
  },
  {
   "cell_type": "markdown",
   "id": "94643ee9",
   "metadata": {},
   "source": [
    "# Create a Databse into postgreSQL to do the work in "
   ]
  },
  {
   "cell_type": "code",
   "execution_count": null,
   "id": "b993710a",
   "metadata": {},
   "outputs": [],
   "source": []
  }
 ],
 "metadata": {
  "kernelspec": {
   "display_name": "Python 3 (ipykernel)",
   "language": "python",
   "name": "python3"
  },
  "language_info": {
   "codemirror_mode": {
    "name": "ipython",
    "version": 3
   },
   "file_extension": ".py",
   "mimetype": "text/x-python",
   "name": "python",
   "nbconvert_exporter": "python",
   "pygments_lexer": "ipython3",
   "version": "3.9.12"
  }
 },
 "nbformat": 4,
 "nbformat_minor": 5
}
