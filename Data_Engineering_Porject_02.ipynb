{
 "cells": [
  {
   "cell_type": "markdown",
   "id": "d1f48682",
   "metadata": {},
   "source": [
    "## Data_Engineering_Porject_02"
   ]
  },
  {
   "cell_type": "raw",
   "id": "8a4692bb",
   "metadata": {},
   "source": [
    " 1- Find Dataset fom link (this part will be in Porject Part_1)\n",
    " 2- Build Data Model (this part will be in Porject Part_1)\n",
    " 3- Write Python code to create table structure (this part will be in Porject Part_1)\n",
    " 4- Insert Data from file to database (this part will be in Porject Part_2)\n",
    " 5- Build Web application to visualize the data using Python (this part will be in Porject Part_3)\n",
    " 6- Connect Database to Tableau for also data visualistion (this part will be in Porject Part_4)"
   ]
  },
  {
   "cell_type": "markdown",
   "id": "f3475d8d",
   "metadata": {},
   "source": [
    "# Creat table in PosgreSQL using Python "
   ]
  },
  {
   "cell_type": "markdown",
   "id": "dc6fc061",
   "metadata": {},
   "source": [
    "## Import the PostgreSLQ Python plugin\n",
    "\n"
   ]
  },
  {
   "cell_type": "code",
   "execution_count": 124,
   "id": "6fc188df",
   "metadata": {
    "scrolled": true
   },
   "outputs": [
    {
     "name": "stdout",
     "output_type": "stream",
     "text": [
      "Requirement already satisfied: psycopg2 in c:\\users\\admin\\anaconda3\\lib\\site-packages (2.9.3)\n",
      "Requirement already satisfied: psycopg2-binary in c:\\users\\admin\\anaconda3\\lib\\site-packages (2.9.3)\n"
     ]
    }
   ],
   "source": [
    "!pip install psycopg2\n",
    "\n",
    "!pip install psycopg2-binary"
   ]
  },
  {
   "cell_type": "markdown",
   "id": "0af309ee",
   "metadata": {},
   "source": [
    "# Import the library"
   ]
  },
  {
   "cell_type": "code",
   "execution_count": 125,
   "id": "aa0b202a",
   "metadata": {},
   "outputs": [],
   "source": [
    "import psycopg2\n",
    "import pandas as pd"
   ]
  },
  {
   "cell_type": "markdown",
   "id": "0316a3f3",
   "metadata": {},
   "source": [
    "# Close my first connexion and connect to my new db"
   ]
  },
  {
   "cell_type": "code",
   "execution_count": 141,
   "id": "2294663d",
   "metadata": {},
   "outputs": [],
   "source": [
    "#close connexion\n",
    "try:\n",
    "    conn.close()\n",
    "except psycopg2.Error as e:\n",
    "    print(\"Error could close the Database\")\n",
    "    print(e)\n",
    "\n",
    "\n",
    "    # connect to my new db    \n",
    "try:\n",
    "    conn = psycopg2.connect(host=\"localhost\",database=\"mydataengineeringdb\", user=\"postgres\", password=\"admin\")\n",
    "except pyscopg2.Error as e:\n",
    "    print('Error: Could not make connection to the Postgres database')\n",
    "    print(e)\n",
    "    \n",
    "#activate de cursor    \n",
    "try:\n",
    "    cur = conn.cursor()\n",
    "except psycopg2.Error as e:\n",
    "    print(\"Error could not get the Database\")\n",
    "    print(e)\n",
    "    \n",
    "#Set automatic commit to be true\n",
    "conn.set_session(autocommit=True)\n"
   ]
  },
  {
   "cell_type": "markdown",
   "id": "45f15d8b",
   "metadata": {},
   "source": [
    "# Create Tables "
   ]
  },
  {
   "cell_type": "code",
   "execution_count": 143,
   "id": "eb935be2",
   "metadata": {},
   "outputs": [],
   "source": [
    "try:\n",
    "    cur.execute(\"CREATE TABLE IF NOT EXISTS departments (department_id int, department_name varchar);\")\n",
    "except psycopg2.Error as e:\n",
    "    print(\"Error could not create the table\")\n",
    "    print(e) \n",
    "\n",
    "\n",
    "try:\n",
    "    cur.execute(\"CREATE TABLE IF NOT EXISTS locations (location_id int, location_name varchar);\")\n",
    "except psycopg2.Error as e:\n",
    "    print(\"Error could not create the table\")\n",
    "    print(e)  \n",
    "    \n",
    "try:\n",
    "    cur.execute(\"CREATE TABLE IF NOT EXISTS employees (employee_id int, employee_fname varchar,employee_lname varchar,  department_id int, location_id int);\")\n",
    "except psycopg2.Error as e:\n",
    "    print(\"Error could not create the table\")\n",
    "    print(e)"
   ]
  },
  {
   "cell_type": "markdown",
   "id": "0210bdf3",
   "metadata": {},
   "source": [
    "# INSERT Data into departments table"
   ]
  },
  {
   "cell_type": "code",
   "execution_count": 144,
   "id": "6a72e958",
   "metadata": {},
   "outputs": [],
   "source": [
    "try:\n",
    "    cur.execute(\"INSERT INTO  departments (department_id , department_name  )\\\n",
    "    VALUES(%s,%s)\",\\\n",
    "               (1,\"IT\"))\n",
    "except psycopg2.Error as e:\n",
    "    print(\"Error could not create the table\")\n",
    "    print(e)\n",
    "    \n",
    "try:\n",
    "    cur.execute(\"INSERT INTO   departments (department_id , department_name )\\\n",
    "    VALUES(%s,%s)\",\\\n",
    "               (2,\"Finance\"))\n",
    "except psycopg2.Error as e:\n",
    "    print(\"Error could not create the table\")\n",
    "    print(e)\n",
    "\n",
    "try:\n",
    "    cur.execute(\"INSERT INTO   departments (department_id , department_name  )\\\n",
    "    VALUES(%s,%s)\",\\\n",
    "               (3,\"HR\"))\n",
    "except psycopg2.Error as e:\n",
    "    print(\"Error could not create the table\")\n",
    "    print(e)\n",
    "    \n"
   ]
  },
  {
   "cell_type": "markdown",
   "id": "354d15d2",
   "metadata": {},
   "source": [
    "# INSERT Data into locations table"
   ]
  },
  {
   "cell_type": "code",
   "execution_count": 145,
   "id": "f639f287",
   "metadata": {},
   "outputs": [],
   "source": [
    "try:\n",
    "    cur.execute(\"INSERT INTO  locations (location_id , location_name)\\\n",
    "    VALUES(%s,%s)\",\\\n",
    "               (1,\"swaziland\"))\n",
    "except psycopg2.Error as e:\n",
    "    print(\"Error could not create the table\")\n",
    "    print(e)\n",
    "\n",
    "try:\n",
    "    cur.execute(\"INSERT INTO  locations (location_id, location_name)\\\n",
    "    VALUES(%s,%s)\",\\\n",
    "               (2,\"US\"))\n",
    "except psycopg2.Error as e:\n",
    "    print(\"Error could not create the table\")\n",
    "    print(e)\n",
    "try:\n",
    "    cur.execute(\"INSERT INTO  locations (location_id , location_name  )\\\n",
    "    VALUES(%s,%s)\",\\\n",
    "               (3,\"Brezil\"))\n",
    "except psycopg2.Error as e:\n",
    "    print(\"Error could not create the table\")\n",
    "    print(e)\n",
    "\n",
    "try:\n",
    "    cur.execute(\"INSERT INTO  locations (location_id , location_name  )\\\n",
    "    VALUES(%s,%s)\",\\\n",
    "               (4,\"Moroco\"))\n",
    "except psycopg2.Error as e:\n",
    "    print(\"Error could not create the table\")\n",
    "    print(e)"
   ]
  },
  {
   "cell_type": "markdown",
   "id": "2b472b29",
   "metadata": {},
   "source": [
    "# INSERT Data into employees table"
   ]
  },
  {
   "cell_type": "code",
   "execution_count": 147,
   "id": "e2e29a15",
   "metadata": {},
   "outputs": [],
   "source": [
    "try:\n",
    "    cur.execute(\"INSERT INTO  employees (employee_id, employee_fname, employee_lname, department_id , location_id)\\\n",
    "    VALUES(%s,%s,%s,%s,%s)\",\\\n",
    "               (1,\"Thomas\",\"Diene\",3,3))\n",
    "except psycopg2.Error as e:\n",
    "    print(\"Error could not create the table\")\n",
    "    print(e)\n",
    "\n",
    "    \n",
    "try:\n",
    "    cur.execute(\"INSERT INTO  employees (employee_id, employee_fname, employee_lname, department_id , location_id)\\\n",
    "    VALUES(%s,%s,%s,%s,%s)\",\\\n",
    "               (2,\"Reggie\",\"Reed\",1,2))\n",
    "except psycopg2.Error as e:\n",
    "    print(\"Error could not create the table\")\n",
    "    print(e)\n",
    "\n",
    "\n",
    "try:\n",
    "    cur.execute(\"INSERT INTO  employees (employee_id, employee_fname, employee_lname, department_id , location_id)\\\n",
    "    VALUES(%s,%s,%s,%s,%s)\",\\\n",
    "               (3,\"Patrick\",\"Horrigan\",1,2))\n",
    "except psycopg2.Error as e:\n",
    "    print(\"Error could not create the table\")\n",
    "    print(e)\n",
    "    \n",
    "try:\n",
    "    cur.execute(\"INSERT INTO  employees (employee_id, employee_fname, employee_lname, department_id , location_id)\\\n",
    "    VALUES(%s,%s,%s,%s,%s)\",\\\n",
    "               (4,\"Jenna\",\"Biden\",2,1))\n",
    "except psycopg2.Error as e:\n",
    "    print(\"Error could not create the table\")\n",
    "    print(e)\n",
    "\n",
    "    \n",
    "try:\n",
    "    cur.execute(\"INSERT INTO  employees (employee_id, employee_fname, employee_lname, department_id , location_id)\\\n",
    "    VALUES(%s,%s,%s,%s,%s)\",\\\n",
    "               (5,\"Micheal\",\"Barack\",2,2))\n",
    "except psycopg2.Error as e:\n",
    "    print(\"Error could not create the table\")\n",
    "    print(e)"
   ]
  },
  {
   "cell_type": "markdown",
   "id": "6ddb17c5",
   "metadata": {},
   "source": [
    "# Select data from employees table"
   ]
  },
  {
   "cell_type": "code",
   "execution_count": 153,
   "id": "b3d28e66",
   "metadata": {},
   "outputs": [
    {
     "name": "stdout",
     "output_type": "stream",
     "text": [
      "(1, 'Thomas', 'Diene', 3, 3)\n",
      "(2, 'Reggie', 'Reed', 1, 2)\n",
      "(3, 'Patrick', 'Horrigan', 1, 2)\n",
      "(4, 'Jenna', 'Biden', 2, 1)\n",
      "(5, 'Micheal', 'Barack', 2, 2)\n"
     ]
    }
   ],
   "source": [
    "\n",
    "try:\n",
    "    cur.execute(\"select * from employees;\")\n",
    "except psycopg2.Error as e:\n",
    "    print(\"Error could not select the data\")\n",
    "    print(e)\n",
    "\n",
    "row =cur.fetchone()\n",
    "while row:\n",
    "    print(row)\n",
    "    row= cur.fetchone()"
   ]
  },
  {
   "cell_type": "markdown",
   "id": "64bfb4d9",
   "metadata": {},
   "source": [
    "# Close the connexion "
   ]
  },
  {
   "cell_type": "code",
   "execution_count": 154,
   "id": "6bb0400d",
   "metadata": {},
   "outputs": [],
   "source": [
    "cur.close()\n",
    "conn.close()"
   ]
  },
  {
   "cell_type": "code",
   "execution_count": null,
   "id": "19033ee6",
   "metadata": {},
   "outputs": [],
   "source": []
  }
 ],
 "metadata": {
  "kernelspec": {
   "display_name": "Python 3 (ipykernel)",
   "language": "python",
   "name": "python3"
  },
  "language_info": {
   "codemirror_mode": {
    "name": "ipython",
    "version": 3
   },
   "file_extension": ".py",
   "mimetype": "text/x-python",
   "name": "python",
   "nbconvert_exporter": "python",
   "pygments_lexer": "ipython3",
   "version": "3.9.12"
  }
 },
 "nbformat": 4,
 "nbformat_minor": 5
}
