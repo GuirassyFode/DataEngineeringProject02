{
 "cells": [
  {
   "cell_type": "raw",
   "id": "225bbf97",
   "metadata": {},
   "source": [
    "## Data_Engineering_Porject_02"
   ]
  },
  {
   "cell_type": "raw",
   "id": "8a4692bb",
   "metadata": {},
   "source": [
    " 1- Find Dataset fom link (this part will be in Porject Part_1)\n",
    " 2- Build Data Model (this part will be in Porject Part_1)\n",
    " 3- Write Python code to create table structure (this part will be in Porject Part_1)\n",
    " 4- Insert Data from file to database (this part will be in Porject Part_2)\n",
    " 5- Build Web application to visualize the data using Python (this part will be in Porject Part_3)\n",
    " 6- Connect Database to Tableau for also data visualistion (this part will be in Porject Part_4)"
   ]
  },
  {
   "cell_type": "markdown",
   "id": "dc6fc061",
   "metadata": {},
   "source": [
    "## Import the PostgreSLQ Python plugin\n",
    "\n"
   ]
  },
  {
   "cell_type": "code",
   "execution_count": 1,
   "id": "6fc188df",
   "metadata": {
    "scrolled": true
   },
   "outputs": [
    {
     "name": "stdout",
     "output_type": "stream",
     "text": [
      "Requirement already satisfied: psycopg2 in c:\\users\\admin\\anaconda3\\lib\\site-packages (2.9.3)\n",
      "Requirement already satisfied: psycopg2-binary in c:\\users\\admin\\anaconda3\\lib\\site-packages (2.9.3)\n"
     ]
    }
   ],
   "source": [
    "!pip install psycopg2\n",
    "\n",
    "!pip install psycopg2-binary"
   ]
  },
  {
   "cell_type": "markdown",
   "id": "0af309ee",
   "metadata": {},
   "source": [
    "# Import the library"
   ]
  },
  {
   "cell_type": "code",
   "execution_count": 1,
   "id": "aa0b202a",
   "metadata": {},
   "outputs": [],
   "source": [
    "import psycopg2\n",
    "import pandas as pd"
   ]
  },
  {
   "cell_type": "markdown",
   "id": "0316a3f3",
   "metadata": {},
   "source": [
    "# Close my first connexion and connect to my new db"
   ]
  },
  {
   "cell_type": "code",
   "execution_count": 2,
   "id": "2294663d",
   "metadata": {},
   "outputs": [],
   "source": [
    "# connect to my new db \n",
    "def create_database():\n",
    "    \n",
    "    conn = psycopg2.connect(\"host=localhost dbname=postgres user=postgres password=admin\")\n",
    "    conn.set_session(autocommit=True)\n",
    "    cur = conn.cursor()\n",
    "    \n",
    "    # create sparkify database with UTF8 encoding\n",
    "    \n",
    "    cur.execute(\"DROP DATABASE customerdb\")\n",
    "    cur.execute(\"CREATE DATABASE customerdb\")\n",
    "    #close\n",
    "    conn.close()\n",
    "   \n",
    "    # connect to sparkify db\n",
    "    conn = psycopg2.connect(\"host=localhost dbname=customerdb user=postgres password=admin\")\n",
    "    cur = conn.cursor()\n",
    "    \n",
    "    \n",
    "    return cur, conn\n"
   ]
  },
  {
   "cell_type": "code",
   "execution_count": 3,
   "id": "2efc7b91",
   "metadata": {},
   "outputs": [],
   "source": [
    "try:\n",
    "    conn = psycopg2.connect(host=\"localhost\",database=\"postgres\", user=\"postgres\", password=\"admin\")\n",
    "except pyscopg2.Error as e:\n",
    "    print('Error: Could not make connection to the Postgres database')\n",
    "    print(e)\n",
    "try:\n",
    "    cursor = conn.cursor()\n",
    "except psycopg2.Error as e:\n",
    "    print(\"Error could not get the Database\")\n",
    "    print(e)\n",
    "conn.set_session(autocommit=True)\n",
    "\n",
    "try:\n",
    "    cursor.execute(\"DROP DATABASE customerdb\")\n",
    "    cursor.execute(\"CREATE DATABASE customerdb\")\n",
    "except psycopg2.Error as e:\n",
    "    print(\"Error could not create the Database\")\n",
    "    print(e)\n",
    "    # Close connetion to default db\n",
    "    conn.close()"
   ]
  },
  {
   "cell_type": "markdown",
   "id": "0979b878",
   "metadata": {},
   "source": [
    "## Drop table function"
   ]
  },
  {
   "cell_type": "code",
   "execution_count": 4,
   "id": "ae3c515c",
   "metadata": {},
   "outputs": [],
   "source": [
    "def drop_table(cur,conn):\n",
    "    for query in drop_table_queries:\n",
    "        cur.execute(query)\n",
    "        conn.commit()"
   ]
  },
  {
   "cell_type": "markdown",
   "id": "792d5390",
   "metadata": {},
   "source": [
    "# Create table function"
   ]
  },
  {
   "cell_type": "code",
   "execution_count": 5,
   "id": "f4de8b51",
   "metadata": {},
   "outputs": [],
   "source": [
    "def create_table(cur, conn):\n",
    "    for query in create_table_queries:\n",
    "        cur.execute(query)\n",
    "        conn.commit()"
   ]
  },
  {
   "cell_type": "markdown",
   "id": "45f15d8b",
   "metadata": {},
   "source": [
    "# Load Data"
   ]
  },
  {
   "cell_type": "code",
   "execution_count": 6,
   "id": "9bd829c9",
   "metadata": {},
   "outputs": [],
   "source": [
    "## Dataset link: https://www.kaggle.com/datasets"
   ]
  },
  {
   "cell_type": "code",
   "execution_count": 7,
   "id": "eb935be2",
   "metadata": {
    "scrolled": true
   },
   "outputs": [],
   "source": [
    "## CustomerBase\n",
    "customerbase =pd.read_excel(\"C://Users/Admin\\Documents/PostgreSQLDB/DataEngineeringProject02/customerdatasets/CustomerBase.xlsx\")\n",
    "\n"
   ]
  },
  {
   "cell_type": "code",
   "execution_count": 8,
   "id": "8ea7479f",
   "metadata": {},
   "outputs": [],
   "source": [
    "## TransactionBase\n",
    "transactionbase =pd.read_excel(\"C://Users/Admin\\Documents/PostgreSQLDB/DataEngineeringProject02/customerdatasets/TransactionBase.xlsx\")\n"
   ]
  },
  {
   "cell_type": "code",
   "execution_count": 9,
   "id": "e7e7e6c6",
   "metadata": {},
   "outputs": [],
   "source": [
    "\n",
    "## FraudBase\n",
    "fraudbase =pd.read_excel(\"C://Users/Admin\\Documents/PostgreSQLDB/DataEngineeringProject02/customerdatasets/FraudBase.xlsx\")\n"
   ]
  },
  {
   "cell_type": "code",
   "execution_count": 10,
   "id": "70adb061",
   "metadata": {},
   "outputs": [],
   "source": [
    "\n",
    "## CardBase\n",
    "cardbase =pd.read_excel(\"C://Users/Admin\\Documents/PostgreSQLDB/DataEngineeringProject02/customerdatasets/CardBase.xlsx\")\n"
   ]
  },
  {
   "cell_type": "code",
   "execution_count": 11,
   "id": "82e340e3",
   "metadata": {},
   "outputs": [],
   "source": [
    "\n",
    "## CreditcardBase\n",
    "creditcardbase =pd.read_excel(\"C://Users/Admin\\Documents/PostgreSQLDB/DataEngineeringProject02/customerdatasets/CreditCardData.xlsx\")\n"
   ]
  },
  {
   "cell_type": "code",
   "execution_count": 12,
   "id": "393ef5a6",
   "metadata": {
    "scrolled": true
   },
   "outputs": [],
   "source": [
    "cur, conn = create_database()"
   ]
  },
  {
   "cell_type": "code",
   "execution_count": 13,
   "id": "56e9b36c",
   "metadata": {},
   "outputs": [],
   "source": [
    "transactionbase_table = (\"\"\"CREATE TABLE IF NOT EXISTS transactionbase(\n",
    "transaction_id VARCHAR PRIMARY KEY NOT NULL,\n",
    "transaction_date  Date,\n",
    "credit_card_id VARCHAR,\n",
    "transaction_value INT,\n",
    "transaction_segment VARCHAR\n",
    ")\"\"\")\n",
    "\n"
   ]
  },
  {
   "cell_type": "code",
   "execution_count": 14,
   "id": "a8a7e150",
   "metadata": {},
   "outputs": [
    {
     "data": {
      "text/html": [
       "<div>\n",
       "<style scoped>\n",
       "    .dataframe tbody tr th:only-of-type {\n",
       "        vertical-align: middle;\n",
       "    }\n",
       "\n",
       "    .dataframe tbody tr th {\n",
       "        vertical-align: top;\n",
       "    }\n",
       "\n",
       "    .dataframe thead th {\n",
       "        text-align: right;\n",
       "    }\n",
       "</style>\n",
       "<table border=\"1\" class=\"dataframe\">\n",
       "  <thead>\n",
       "    <tr style=\"text-align: right;\">\n",
       "      <th></th>\n",
       "      <th>Transaction_ID</th>\n",
       "      <th>Transaction_Date</th>\n",
       "      <th>Credit_Card_ID</th>\n",
       "      <th>Transaction_Value</th>\n",
       "      <th>Transaction_Segment</th>\n",
       "    </tr>\n",
       "  </thead>\n",
       "  <tbody>\n",
       "    <tr>\n",
       "      <th>0</th>\n",
       "      <td>CTID28830551</td>\n",
       "      <td>2016-04-24</td>\n",
       "      <td>1629-9566-3285-2123</td>\n",
       "      <td>23649</td>\n",
       "      <td>SEG25</td>\n",
       "    </tr>\n",
       "    <tr>\n",
       "      <th>1</th>\n",
       "      <td>CTID45504917</td>\n",
       "      <td>2016-02-11</td>\n",
       "      <td>3697-6001-4909-5350</td>\n",
       "      <td>26726</td>\n",
       "      <td>SEG16</td>\n",
       "    </tr>\n",
       "    <tr>\n",
       "      <th>2</th>\n",
       "      <td>CTID47312290</td>\n",
       "      <td>2016-11-01</td>\n",
       "      <td>5864-4475-3659-1440</td>\n",
       "      <td>22012</td>\n",
       "      <td>SEG14</td>\n",
       "    </tr>\n",
       "    <tr>\n",
       "      <th>3</th>\n",
       "      <td>CTID25637718</td>\n",
       "      <td>2016-01-28</td>\n",
       "      <td>5991-4421-8476-3804</td>\n",
       "      <td>37637</td>\n",
       "      <td>SEG17</td>\n",
       "    </tr>\n",
       "    <tr>\n",
       "      <th>4</th>\n",
       "      <td>CTID66743960</td>\n",
       "      <td>2016-03-17</td>\n",
       "      <td>1893-8853-9900-8478</td>\n",
       "      <td>5113</td>\n",
       "      <td>SEG14</td>\n",
       "    </tr>\n",
       "  </tbody>\n",
       "</table>\n",
       "</div>"
      ],
      "text/plain": [
       "  Transaction_ID Transaction_Date       Credit_Card_ID  Transaction_Value  \\\n",
       "0   CTID28830551       2016-04-24  1629-9566-3285-2123              23649   \n",
       "1   CTID45504917       2016-02-11  3697-6001-4909-5350              26726   \n",
       "2   CTID47312290       2016-11-01  5864-4475-3659-1440              22012   \n",
       "3   CTID25637718       2016-01-28  5991-4421-8476-3804              37637   \n",
       "4   CTID66743960       2016-03-17  1893-8853-9900-8478               5113   \n",
       "\n",
       "  Transaction_Segment  \n",
       "0               SEG25  \n",
       "1               SEG16  \n",
       "2               SEG14  \n",
       "3               SEG17  \n",
       "4               SEG14  "
      ]
     },
     "execution_count": 14,
     "metadata": {},
     "output_type": "execute_result"
    }
   ],
   "source": [
    "transactionbase.head()"
   ]
  },
  {
   "cell_type": "code",
   "execution_count": 15,
   "id": "1ffefb52",
   "metadata": {},
   "outputs": [],
   "source": [
    "cur.execute(transactionbase_table)\n",
    "conn.commit()\n"
   ]
  },
  {
   "cell_type": "code",
   "execution_count": 16,
   "id": "695a45d2",
   "metadata": {},
   "outputs": [],
   "source": [
    "customerbase_table = (\"\"\"CREATE TABLE IF NOT EXISTS customerbase(\n",
    "cust_id VARCHAR PRIMARY KEY NOT NULL,\n",
    "age  INT,\n",
    "customer_segment VARCHAR,\n",
    "customer_vintage_group VARCHAR\n",
    ")\"\"\")\n"
   ]
  },
  {
   "cell_type": "code",
   "execution_count": 17,
   "id": "8f9f1d2b",
   "metadata": {},
   "outputs": [
    {
     "data": {
      "text/html": [
       "<div>\n",
       "<style scoped>\n",
       "    .dataframe tbody tr th:only-of-type {\n",
       "        vertical-align: middle;\n",
       "    }\n",
       "\n",
       "    .dataframe tbody tr th {\n",
       "        vertical-align: top;\n",
       "    }\n",
       "\n",
       "    .dataframe thead th {\n",
       "        text-align: right;\n",
       "    }\n",
       "</style>\n",
       "<table border=\"1\" class=\"dataframe\">\n",
       "  <thead>\n",
       "    <tr style=\"text-align: right;\">\n",
       "      <th></th>\n",
       "      <th>Cust_ID</th>\n",
       "      <th>Age</th>\n",
       "      <th>Customer_Segment</th>\n",
       "      <th>Customer_Vintage_Group</th>\n",
       "    </tr>\n",
       "  </thead>\n",
       "  <tbody>\n",
       "    <tr>\n",
       "      <th>0</th>\n",
       "      <td>CC25034</td>\n",
       "      <td>35</td>\n",
       "      <td>Diamond</td>\n",
       "      <td>VG1</td>\n",
       "    </tr>\n",
       "    <tr>\n",
       "      <th>1</th>\n",
       "      <td>CC59625</td>\n",
       "      <td>22</td>\n",
       "      <td>Diamond</td>\n",
       "      <td>VG1</td>\n",
       "    </tr>\n",
       "    <tr>\n",
       "      <th>2</th>\n",
       "      <td>CC69314</td>\n",
       "      <td>33</td>\n",
       "      <td>Diamond</td>\n",
       "      <td>VG1</td>\n",
       "    </tr>\n",
       "    <tr>\n",
       "      <th>3</th>\n",
       "      <td>CC67036</td>\n",
       "      <td>46</td>\n",
       "      <td>Diamond</td>\n",
       "      <td>VG1</td>\n",
       "    </tr>\n",
       "    <tr>\n",
       "      <th>4</th>\n",
       "      <td>CC25597</td>\n",
       "      <td>44</td>\n",
       "      <td>Diamond</td>\n",
       "      <td>VG1</td>\n",
       "    </tr>\n",
       "  </tbody>\n",
       "</table>\n",
       "</div>"
      ],
      "text/plain": [
       "   Cust_ID  Age Customer_Segment Customer_Vintage_Group\n",
       "0  CC25034   35          Diamond                    VG1\n",
       "1  CC59625   22          Diamond                    VG1\n",
       "2  CC69314   33          Diamond                    VG1\n",
       "3  CC67036   46          Diamond                    VG1\n",
       "4  CC25597   44          Diamond                    VG1"
      ]
     },
     "execution_count": 17,
     "metadata": {},
     "output_type": "execute_result"
    }
   ],
   "source": [
    "customerbase.head()"
   ]
  },
  {
   "cell_type": "code",
   "execution_count": 18,
   "id": "9d2ff70e",
   "metadata": {},
   "outputs": [],
   "source": [
    "cur.execute(customerbase_table)\n",
    "conn.commit()"
   ]
  },
  {
   "cell_type": "code",
   "execution_count": 19,
   "id": "b964e912",
   "metadata": {},
   "outputs": [],
   "source": [
    "fraudbase_table = (\"\"\"CREATE TABLE IF NOT EXISTS fraudbase(\n",
    "transaction_id VARCHAR PRIMARY KEY NOT NULL,\n",
    "fraud_flag INT\n",
    ")\"\"\")\n"
   ]
  },
  {
   "cell_type": "code",
   "execution_count": 20,
   "id": "bd9ea3e4",
   "metadata": {},
   "outputs": [
    {
     "data": {
      "text/html": [
       "<div>\n",
       "<style scoped>\n",
       "    .dataframe tbody tr th:only-of-type {\n",
       "        vertical-align: middle;\n",
       "    }\n",
       "\n",
       "    .dataframe tbody tr th {\n",
       "        vertical-align: top;\n",
       "    }\n",
       "\n",
       "    .dataframe thead th {\n",
       "        text-align: right;\n",
       "    }\n",
       "</style>\n",
       "<table border=\"1\" class=\"dataframe\">\n",
       "  <thead>\n",
       "    <tr style=\"text-align: right;\">\n",
       "      <th></th>\n",
       "      <th>Transaction_ID</th>\n",
       "      <th>Fraud_Flag</th>\n",
       "    </tr>\n",
       "  </thead>\n",
       "  <tbody>\n",
       "    <tr>\n",
       "      <th>0</th>\n",
       "      <td>CTID50558449</td>\n",
       "      <td>1</td>\n",
       "    </tr>\n",
       "    <tr>\n",
       "      <th>1</th>\n",
       "      <td>CTID55936882</td>\n",
       "      <td>1</td>\n",
       "    </tr>\n",
       "    <tr>\n",
       "      <th>2</th>\n",
       "      <td>CTID63762180</td>\n",
       "      <td>1</td>\n",
       "    </tr>\n",
       "    <tr>\n",
       "      <th>3</th>\n",
       "      <td>CTID76723439</td>\n",
       "      <td>1</td>\n",
       "    </tr>\n",
       "    <tr>\n",
       "      <th>4</th>\n",
       "      <td>CTID21246201</td>\n",
       "      <td>1</td>\n",
       "    </tr>\n",
       "  </tbody>\n",
       "</table>\n",
       "</div>"
      ],
      "text/plain": [
       "  Transaction_ID  Fraud_Flag\n",
       "0   CTID50558449           1\n",
       "1   CTID55936882           1\n",
       "2   CTID63762180           1\n",
       "3   CTID76723439           1\n",
       "4   CTID21246201           1"
      ]
     },
     "execution_count": 20,
     "metadata": {},
     "output_type": "execute_result"
    }
   ],
   "source": [
    "fraudbase.head()"
   ]
  },
  {
   "cell_type": "code",
   "execution_count": 21,
   "id": "dd3d5e61",
   "metadata": {},
   "outputs": [],
   "source": [
    "cur.execute(fraudbase_table)\n",
    "conn.commit()"
   ]
  },
  {
   "cell_type": "code",
   "execution_count": 22,
   "id": "4befa859",
   "metadata": {},
   "outputs": [],
   "source": [
    "cardbase_table = (\"\"\"CREATE TABLE IF NOT EXISTS cardbase(\n",
    "card_number VARCHAR PRIMARY KEY NOT NULL,\n",
    "card_family  VARCHAR,\n",
    "credit_limit INT,\n",
    "cust_id VARCHAR\n",
    ")\"\"\")"
   ]
  },
  {
   "cell_type": "code",
   "execution_count": 23,
   "id": "cc9ddbfb",
   "metadata": {},
   "outputs": [
    {
     "data": {
      "text/html": [
       "<div>\n",
       "<style scoped>\n",
       "    .dataframe tbody tr th:only-of-type {\n",
       "        vertical-align: middle;\n",
       "    }\n",
       "\n",
       "    .dataframe tbody tr th {\n",
       "        vertical-align: top;\n",
       "    }\n",
       "\n",
       "    .dataframe thead th {\n",
       "        text-align: right;\n",
       "    }\n",
       "</style>\n",
       "<table border=\"1\" class=\"dataframe\">\n",
       "  <thead>\n",
       "    <tr style=\"text-align: right;\">\n",
       "      <th></th>\n",
       "      <th>Card_Number</th>\n",
       "      <th>Card_Family</th>\n",
       "      <th>Credit_Limit</th>\n",
       "      <th>Cust_ID</th>\n",
       "    </tr>\n",
       "  </thead>\n",
       "  <tbody>\n",
       "    <tr>\n",
       "      <th>0</th>\n",
       "      <td>8638-5407-3631-8196</td>\n",
       "      <td>Premium</td>\n",
       "      <td>530000</td>\n",
       "      <td>CC67088</td>\n",
       "    </tr>\n",
       "    <tr>\n",
       "      <th>1</th>\n",
       "      <td>7106-4239-7093-1515</td>\n",
       "      <td>Gold</td>\n",
       "      <td>18000</td>\n",
       "      <td>CC12076</td>\n",
       "    </tr>\n",
       "    <tr>\n",
       "      <th>2</th>\n",
       "      <td>6492-5655-8241-3530</td>\n",
       "      <td>Premium</td>\n",
       "      <td>596000</td>\n",
       "      <td>CC97173</td>\n",
       "    </tr>\n",
       "    <tr>\n",
       "      <th>3</th>\n",
       "      <td>2868-5606-5152-5706</td>\n",
       "      <td>Gold</td>\n",
       "      <td>27000</td>\n",
       "      <td>CC55858</td>\n",
       "    </tr>\n",
       "    <tr>\n",
       "      <th>4</th>\n",
       "      <td>1438-6906-2509-8219</td>\n",
       "      <td>Platinum</td>\n",
       "      <td>142000</td>\n",
       "      <td>CC90518</td>\n",
       "    </tr>\n",
       "  </tbody>\n",
       "</table>\n",
       "</div>"
      ],
      "text/plain": [
       "           Card_Number Card_Family  Credit_Limit  Cust_ID\n",
       "0  8638-5407-3631-8196     Premium        530000  CC67088\n",
       "1  7106-4239-7093-1515        Gold         18000  CC12076\n",
       "2  6492-5655-8241-3530     Premium        596000  CC97173\n",
       "3  2868-5606-5152-5706        Gold         27000  CC55858\n",
       "4  1438-6906-2509-8219    Platinum        142000  CC90518"
      ]
     },
     "execution_count": 23,
     "metadata": {},
     "output_type": "execute_result"
    }
   ],
   "source": [
    "cardbase.head()"
   ]
  },
  {
   "cell_type": "code",
   "execution_count": 24,
   "id": "49d7bdfb",
   "metadata": {},
   "outputs": [],
   "source": [
    "cur.execute(cardbase_table)\n",
    "conn.commit()"
   ]
  },
  {
   "cell_type": "code",
   "execution_count": 25,
   "id": "5072391a",
   "metadata": {},
   "outputs": [],
   "source": [
    "creditcardbase_table = (\"\"\"CREATE TABLE IF NOT EXISTS creditcardbase(\n",
    "transaction_id VARCHAR PRIMARY KEY NOT NULL,\n",
    "transaction_date  Date,\n",
    "credit_card_id VARCHAR,\n",
    "transaction_value INT,\n",
    "Transaction_Segment VARCHAR\n",
    "\n",
    ")\"\"\")"
   ]
  },
  {
   "cell_type": "code",
   "execution_count": 26,
   "id": "bd19f369",
   "metadata": {},
   "outputs": [],
   "source": [
    "cur.execute(creditcardbase_table)\n",
    "conn.commit()"
   ]
  },
  {
   "cell_type": "markdown",
   "id": "0210bdf3",
   "metadata": {},
   "source": [
    "# INSERT Data into departments table"
   ]
  },
  {
   "cell_type": "code",
   "execution_count": 27,
   "id": "3ef73237",
   "metadata": {},
   "outputs": [],
   "source": [
    "transactionbase_table = (\"\"\"INSERT INTO  transactionbase(\n",
    "transaction_id,\n",
    "transaction_date,\n",
    "credit_card_id  ,\n",
    "transaction_value ,\n",
    "transaction_segment)\n",
    "VALUES (%s,%s,%s,%s,%s)\n",
    "\"\"\")"
   ]
  },
  {
   "cell_type": "code",
   "execution_count": 28,
   "id": "db460db7",
   "metadata": {},
   "outputs": [],
   "source": [
    "for i, row in transactionbase.iterrows():\n",
    "    cur.execute(transactionbase_table, list(row))"
   ]
  },
  {
   "cell_type": "code",
   "execution_count": 29,
   "id": "7fd5b316",
   "metadata": {},
   "outputs": [],
   "source": [
    "conn.commit()"
   ]
  },
  {
   "cell_type": "code",
   "execution_count": null,
   "id": "c7e6cdce",
   "metadata": {},
   "outputs": [],
   "source": [
    "## Upload data from your datasource"
   ]
  },
  {
   "cell_type": "code",
   "execution_count": null,
   "id": "6f70940e",
   "metadata": {},
   "outputs": [],
   "source": [
    "## CustomerBase\n",
    "customerbase =pd.read_excel(\"C://Users/Admin\\Documents/PostgreSQLDB/DataEngineeringProject02/customerdatasets/CustomerBase.xlsx\")\n",
    "http://localhost:8888/notebooks/Data_Engineering_Porject_02.ipynb"
   ]
  },
  {
   "cell_type": "code",
   "execution_count": null,
   "id": "de340bc5",
   "metadata": {},
   "outputs": [],
   "source": [
    "# INSERT Data into Customer table"
   ]
  },
  {
   "cell_type": "code",
   "execution_count": 30,
   "id": "4862bc77",
   "metadata": {},
   "outputs": [],
   "source": [
    "customerbase_table = (\"\"\" INSERT INTO customerbase(\n",
    "cust_id,\n",
    "age,\n",
    "customer_segment,\n",
    "customer_vintage_group)\n",
    "VALUES(%s,%s,%s,%s)\n",
    "\"\"\")\n"
   ]
  },
  {
   "cell_type": "code",
   "execution_count": 31,
   "id": "a24c9f53",
   "metadata": {},
   "outputs": [
    {
     "data": {
      "text/html": [
       "<div>\n",
       "<style scoped>\n",
       "    .dataframe tbody tr th:only-of-type {\n",
       "        vertical-align: middle;\n",
       "    }\n",
       "\n",
       "    .dataframe tbody tr th {\n",
       "        vertical-align: top;\n",
       "    }\n",
       "\n",
       "    .dataframe thead th {\n",
       "        text-align: right;\n",
       "    }\n",
       "</style>\n",
       "<table border=\"1\" class=\"dataframe\">\n",
       "  <thead>\n",
       "    <tr style=\"text-align: right;\">\n",
       "      <th></th>\n",
       "      <th>Cust_ID</th>\n",
       "      <th>Age</th>\n",
       "      <th>Customer_Segment</th>\n",
       "      <th>Customer_Vintage_Group</th>\n",
       "    </tr>\n",
       "  </thead>\n",
       "  <tbody>\n",
       "    <tr>\n",
       "      <th>0</th>\n",
       "      <td>CC25034</td>\n",
       "      <td>35</td>\n",
       "      <td>Diamond</td>\n",
       "      <td>VG1</td>\n",
       "    </tr>\n",
       "    <tr>\n",
       "      <th>1</th>\n",
       "      <td>CC59625</td>\n",
       "      <td>22</td>\n",
       "      <td>Diamond</td>\n",
       "      <td>VG1</td>\n",
       "    </tr>\n",
       "    <tr>\n",
       "      <th>2</th>\n",
       "      <td>CC69314</td>\n",
       "      <td>33</td>\n",
       "      <td>Diamond</td>\n",
       "      <td>VG1</td>\n",
       "    </tr>\n",
       "    <tr>\n",
       "      <th>3</th>\n",
       "      <td>CC67036</td>\n",
       "      <td>46</td>\n",
       "      <td>Diamond</td>\n",
       "      <td>VG1</td>\n",
       "    </tr>\n",
       "    <tr>\n",
       "      <th>4</th>\n",
       "      <td>CC25597</td>\n",
       "      <td>44</td>\n",
       "      <td>Diamond</td>\n",
       "      <td>VG1</td>\n",
       "    </tr>\n",
       "  </tbody>\n",
       "</table>\n",
       "</div>"
      ],
      "text/plain": [
       "   Cust_ID  Age Customer_Segment Customer_Vintage_Group\n",
       "0  CC25034   35          Diamond                    VG1\n",
       "1  CC59625   22          Diamond                    VG1\n",
       "2  CC69314   33          Diamond                    VG1\n",
       "3  CC67036   46          Diamond                    VG1\n",
       "4  CC25597   44          Diamond                    VG1"
      ]
     },
     "execution_count": 31,
     "metadata": {},
     "output_type": "execute_result"
    }
   ],
   "source": [
    "\n",
    "customerbase.head()"
   ]
  },
  {
   "cell_type": "code",
   "execution_count": 32,
   "id": "8aaf0de4",
   "metadata": {},
   "outputs": [],
   "source": [
    "for i,row in customerbase.iterrows():\n",
    "    cur.execute(customerbase_table, list(row))"
   ]
  },
  {
   "cell_type": "code",
   "execution_count": 33,
   "id": "4cdb3f8c",
   "metadata": {},
   "outputs": [],
   "source": [
    "conn.commit()"
   ]
  },
  {
   "cell_type": "code",
   "execution_count": 34,
   "id": "0131a871",
   "metadata": {},
   "outputs": [],
   "source": [
    "fraudbase_table = (\"\"\" INSERT INTO fraudbase(\n",
    "transaction_id,\n",
    "fraud_flag)\n",
    "VALUES(%s,%s)\n",
    "\"\"\")\n"
   ]
  },
  {
   "cell_type": "code",
   "execution_count": 35,
   "id": "67939090",
   "metadata": {},
   "outputs": [],
   "source": [
    "for i,row in fraudbase.iterrows():\n",
    "    cur.execute(fraudbase_table, list(row))"
   ]
  },
  {
   "cell_type": "code",
   "execution_count": 36,
   "id": "02098895",
   "metadata": {},
   "outputs": [],
   "source": [
    "conn.commit()"
   ]
  },
  {
   "cell_type": "code",
   "execution_count": 37,
   "id": "321e339a",
   "metadata": {},
   "outputs": [],
   "source": [
    "cardbase_table = (\"\"\"INSERT INTO cardbase(\n",
    "card_number,\n",
    "card_family,\n",
    "credit_limit,\n",
    "cust_id)\n",
    "VALUES(%s,%s,%s,%s)\n",
    "\"\"\")"
   ]
  },
  {
   "cell_type": "code",
   "execution_count": 38,
   "id": "45e21eb2",
   "metadata": {},
   "outputs": [],
   "source": [
    "for i,row in cardbase.iterrows():\n",
    "    cur.execute(cardbase_table, list(row))"
   ]
  },
  {
   "cell_type": "code",
   "execution_count": 39,
   "id": "fdd1c7ae",
   "metadata": {},
   "outputs": [],
   "source": [
    "conn.commit()"
   ]
  },
  {
   "cell_type": "code",
   "execution_count": 40,
   "id": "4be34e2a",
   "metadata": {},
   "outputs": [],
   "source": [
    "creditcardbase_table = (\"\"\" INSERT INTO creditcardbase(\n",
    "transaction_id,\n",
    "transaction_date,\n",
    "credit_card_id ,\n",
    "transaction_value ,\n",
    "Transaction_Segment)\n",
    "VALUES(%s,%s,%s,%s,%s)\n",
    "\"\"\")"
   ]
  },
  {
   "cell_type": "code",
   "execution_count": 41,
   "id": "199d16f5",
   "metadata": {},
   "outputs": [
    {
     "data": {
      "text/html": [
       "<div>\n",
       "<style scoped>\n",
       "    .dataframe tbody tr th:only-of-type {\n",
       "        vertical-align: middle;\n",
       "    }\n",
       "\n",
       "    .dataframe tbody tr th {\n",
       "        vertical-align: top;\n",
       "    }\n",
       "\n",
       "    .dataframe thead th {\n",
       "        text-align: right;\n",
       "    }\n",
       "</style>\n",
       "<table border=\"1\" class=\"dataframe\">\n",
       "  <thead>\n",
       "    <tr style=\"text-align: right;\">\n",
       "      <th></th>\n",
       "      <th>Transaction_ID</th>\n",
       "      <th>Transaction_Date</th>\n",
       "      <th>Credit_Card_ID</th>\n",
       "      <th>Transaction_Value</th>\n",
       "      <th>Transaction_Segment</th>\n",
       "    </tr>\n",
       "  </thead>\n",
       "  <tbody>\n",
       "    <tr>\n",
       "      <th>0</th>\n",
       "      <td>CTID28830551</td>\n",
       "      <td>2016-04-24</td>\n",
       "      <td>1629-9566-3285-2123</td>\n",
       "      <td>23649</td>\n",
       "      <td>SEG25</td>\n",
       "    </tr>\n",
       "    <tr>\n",
       "      <th>1</th>\n",
       "      <td>CTID45504917</td>\n",
       "      <td>2016-02-11</td>\n",
       "      <td>3697-6001-4909-5350</td>\n",
       "      <td>26726</td>\n",
       "      <td>SEG16</td>\n",
       "    </tr>\n",
       "    <tr>\n",
       "      <th>2</th>\n",
       "      <td>CTID47312290</td>\n",
       "      <td>2016-11-01</td>\n",
       "      <td>5864-4475-3659-1440</td>\n",
       "      <td>22012</td>\n",
       "      <td>SEG14</td>\n",
       "    </tr>\n",
       "    <tr>\n",
       "      <th>3</th>\n",
       "      <td>CTID25637718</td>\n",
       "      <td>2016-01-28</td>\n",
       "      <td>5991-4421-8476-3804</td>\n",
       "      <td>37637</td>\n",
       "      <td>SEG17</td>\n",
       "    </tr>\n",
       "    <tr>\n",
       "      <th>4</th>\n",
       "      <td>CTID66743960</td>\n",
       "      <td>2016-03-17</td>\n",
       "      <td>1893-8853-9900-8478</td>\n",
       "      <td>5113</td>\n",
       "      <td>SEG14</td>\n",
       "    </tr>\n",
       "  </tbody>\n",
       "</table>\n",
       "</div>"
      ],
      "text/plain": [
       "  Transaction_ID Transaction_Date       Credit_Card_ID  Transaction_Value  \\\n",
       "0   CTID28830551       2016-04-24  1629-9566-3285-2123              23649   \n",
       "1   CTID45504917       2016-02-11  3697-6001-4909-5350              26726   \n",
       "2   CTID47312290       2016-11-01  5864-4475-3659-1440              22012   \n",
       "3   CTID25637718       2016-01-28  5991-4421-8476-3804              37637   \n",
       "4   CTID66743960       2016-03-17  1893-8853-9900-8478               5113   \n",
       "\n",
       "  Transaction_Segment  \n",
       "0               SEG25  \n",
       "1               SEG16  \n",
       "2               SEG14  \n",
       "3               SEG17  \n",
       "4               SEG14  "
      ]
     },
     "execution_count": 41,
     "metadata": {},
     "output_type": "execute_result"
    }
   ],
   "source": [
    "\n",
    "creditcardbase.head()"
   ]
  },
  {
   "cell_type": "code",
   "execution_count": 42,
   "id": "faa635e3",
   "metadata": {},
   "outputs": [],
   "source": [
    "for i,row in creditcardbase.iterrows():\n",
    "    cur.execute(creditcardbase_table, list(row))"
   ]
  },
  {
   "cell_type": "code",
   "execution_count": 43,
   "id": "ba301fad",
   "metadata": {},
   "outputs": [],
   "source": [
    "conn.commit()"
   ]
  },
  {
   "cell_type": "markdown",
   "id": "354d15d2",
   "metadata": {},
   "source": [
    "# INSERT Data into locations table"
   ]
  },
  {
   "cell_type": "code",
   "execution_count": 145,
   "id": "f639f287",
   "metadata": {},
   "outputs": [],
   "source": [
    "try:\n",
    "    cur.execute(\"INSERT INTO  locations (location_id , location_name)\\\n",
    "    VALUES(%s,%s)\",\\\n",
    "               (1,\"swaziland\"))\n",
    "except psycopg2.Error as e:\n",
    "    print(\"Error could not create the table\")\n",
    "    print(e)\n",
    "\n",
    "try:\n",
    "    cur.execute(\"INSERT INTO  locations (location_id, location_name)\\\n",
    "    VALUES(%s,%s)\",\\\n",
    "               (2,\"US\"))\n",
    "except psycopg2.Error as e:\n",
    "    print(\"Error could not create the table\")\n",
    "    print(e)\n",
    "try:\n",
    "    cur.execute(\"INSERT INTO  locations (location_id , location_name  )\\\n",
    "    VALUES(%s,%s)\",\\\n",
    "               (3,\"Brezil\"))\n",
    "except psycopg2.Error as e:\n",
    "    print(\"Error could not create the table\")\n",
    "    print(e)\n",
    "\n",
    "try:\n",
    "    cur.execute(\"INSERT INTO  locations (location_id , location_name  )\\\n",
    "    VALUES(%s,%s)\",\\\n",
    "               (4,\"Moroco\"))\n",
    "except psycopg2.Error as e:\n",
    "    print(\"Error could not create the table\")\n",
    "    print(e)"
   ]
  },
  {
   "cell_type": "markdown",
   "id": "2b472b29",
   "metadata": {},
   "source": [
    "# INSERT Data into employees table"
   ]
  },
  {
   "cell_type": "code",
   "execution_count": 147,
   "id": "e2e29a15",
   "metadata": {},
   "outputs": [],
   "source": [
    "try:\n",
    "    cur.execute(\"INSERT INTO  employees (employee_id, employee_fname, employee_lname, department_id , location_id)\\\n",
    "    VALUES(%s,%s,%s,%s,%s)\",\\\n",
    "               (1,\"Thomas\",\"Diene\",3,3))\n",
    "except psycopg2.Error as e:\n",
    "    print(\"Error could not create the table\")\n",
    "    print(e)\n",
    "\n",
    "    \n",
    "try:\n",
    "    cur.execute(\"INSERT INTO  employees (employee_id, employee_fname, employee_lname, department_id , location_id)\\\n",
    "    VALUES(%s,%s,%s,%s,%s)\",\\\n",
    "               (2,\"Reggie\",\"Reed\",1,2))\n",
    "except psycopg2.Error as e:\n",
    "    print(\"Error could not create the table\")\n",
    "    print(e)\n",
    "\n",
    "\n",
    "try:\n",
    "    cur.execute(\"INSERT INTO  employees (employee_id, employee_fname, employee_lname, department_id , location_id)\\\n",
    "    VALUES(%s,%s,%s,%s,%s)\",\\\n",
    "               (3,\"Patrick\",\"Horrigan\",1,2))\n",
    "except psycopg2.Error as e:\n",
    "    print(\"Error could not create the table\")\n",
    "    print(e)\n",
    "    \n",
    "try:\n",
    "    cur.execute(\"INSERT INTO  employees (employee_id, employee_fname, employee_lname, department_id , location_id)\\\n",
    "    VALUES(%s,%s,%s,%s,%s)\",\\\n",
    "               (4,\"Jenna\",\"Biden\",2,1))\n",
    "except psycopg2.Error as e:\n",
    "    print(\"Error could not create the table\")\n",
    "    print(e)\n",
    "\n",
    "    \n",
    "try:\n",
    "    cur.execute(\"INSERT INTO  employees (employee_id, employee_fname, employee_lname, department_id , location_id)\\\n",
    "    VALUES(%s,%s,%s,%s,%s)\",\\\n",
    "               (5,\"Micheal\",\"Barack\",2,2))\n",
    "except psycopg2.Error as e:\n",
    "    print(\"Error could not create the table\")\n",
    "    print(e)"
   ]
  },
  {
   "cell_type": "markdown",
   "id": "6ddb17c5",
   "metadata": {},
   "source": [
    "# Select data from employees table"
   ]
  },
  {
   "cell_type": "code",
   "execution_count": 153,
   "id": "b3d28e66",
   "metadata": {},
   "outputs": [
    {
     "name": "stdout",
     "output_type": "stream",
     "text": [
      "(1, 'Thomas', 'Diene', 3, 3)\n",
      "(2, 'Reggie', 'Reed', 1, 2)\n",
      "(3, 'Patrick', 'Horrigan', 1, 2)\n",
      "(4, 'Jenna', 'Biden', 2, 1)\n",
      "(5, 'Micheal', 'Barack', 2, 2)\n"
     ]
    }
   ],
   "source": [
    "\n",
    "try:\n",
    "    cur.execute(\"select * from employees;\")\n",
    "except psycopg2.Error as e:\n",
    "    print(\"Error could not select the data\")\n",
    "    print(e)\n",
    "\n",
    "row =cur.fetchone()\n",
    "while row:\n",
    "    print(row)\n",
    "    row= cur.fetchone()"
   ]
  },
  {
   "cell_type": "markdown",
   "id": "64bfb4d9",
   "metadata": {},
   "source": [
    "# Close the connexion "
   ]
  },
  {
   "cell_type": "code",
   "execution_count": 154,
   "id": "6bb0400d",
   "metadata": {},
   "outputs": [],
   "source": [
    "cur.close()\n",
    "conn.close()"
   ]
  },
  {
   "cell_type": "code",
   "execution_count": null,
   "id": "19033ee6",
   "metadata": {},
   "outputs": [],
   "source": []
  }
 ],
 "metadata": {
  "kernelspec": {
   "display_name": "Python 3 (ipykernel)",
   "language": "python",
   "name": "python3"
  },
  "language_info": {
   "codemirror_mode": {
    "name": "ipython",
    "version": 3
   },
   "file_extension": ".py",
   "mimetype": "text/x-python",
   "name": "python",
   "nbconvert_exporter": "python",
   "pygments_lexer": "ipython3",
   "version": "3.9.12"
  }
 },
 "nbformat": 4,
 "nbformat_minor": 5
}
